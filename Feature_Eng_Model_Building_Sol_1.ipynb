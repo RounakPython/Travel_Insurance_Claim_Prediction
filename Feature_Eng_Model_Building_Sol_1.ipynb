{
 "cells": [
  {
   "cell_type": "markdown",
   "metadata": {},
   "source": [
    "# FEATURE ENGINEERING, FEATURE SELECTION, MODEL BUILDING"
   ]
  },
  {
   "cell_type": "code",
   "execution_count": 62,
   "metadata": {},
   "outputs": [],
   "source": [
    "import pandas as pd\n",
    "import numpy as np\n",
    "import os \n",
    "import matplotlib.pyplot as plt\n",
    "import seaborn as sns\n",
    "import warnings\n",
    "warnings.filterwarnings('ignore')\n",
    "from sklearn.ensemble import RandomForestClassifier,ExtraTreesClassifier\n",
    "from sklearn.model_selection import train_test_split\n",
    "from sklearn.linear_model import LogisticRegression\n",
    "from sklearn.preprocessing import LabelBinarizer, StandardScaler, MinMaxScaler\n",
    "from sklearn.metrics import confusion_matrix, recall_score, precision_score, accuracy_score, roc_auc_score\n",
    "from sklearn.metrics import plot_confusion_matrix, f1_score\n",
    "from sklearn.model_selection import cross_val_score, StratifiedKFold\n",
    "from sklearn.svm import SVC\n",
    "from sklearn.ensemble import GradientBoostingClassifier \n",
    "from xgboost import XGBClassifier\n",
    "from imblearn.over_sampling import SMOTE\n",
    "from imblearn.combine import SMOTETomek\n",
    "from sklearn.tree import DecisionTreeClassifier\n",
    "from sklearn.feature_selection import RFE,SelectKBest\n",
    "from sklearn.metrics import confusion_matrix,classification_report\n",
    "from sklearn.feature_selection import f_classif, chi2\n",
    "import pickle"
   ]
  },
  {
   "cell_type": "code",
   "execution_count": 66,
   "metadata": {},
   "outputs": [
    {
     "data": {
      "text/plain": [
       "ID                      0\n",
       "Agency                  0\n",
       "Agency Type             0\n",
       "Distribution Channel    0\n",
       "Product Name            0\n",
       "Duration                0\n",
       "Destination             0\n",
       "Net Sales               0\n",
       "Commision (in value)    0\n",
       "Age                     0\n",
       "Claim                   0\n",
       "dtype: int64"
      ]
     },
     "execution_count": 66,
     "metadata": {},
     "output_type": "execute_result"
    }
   ],
   "source": [
    "# Loading the Data\n",
    "df_test = pd.read_csv('./file/test.csv')\n",
    "df_train = pd.read_csv('./file/train.csv')\n",
    "\n",
    "df_train.isnull().sum()"
   ]
  },
  {
   "cell_type": "markdown",
   "metadata": {},
   "source": [
    "# Feature Engineering"
   ]
  },
  {
   "cell_type": "markdown",
   "metadata": {},
   "source": [
    "## Numerical Encoding "
   ]
  },
  {
   "cell_type": "code",
   "execution_count": null,
   "metadata": {},
   "outputs": [],
   "source": [
    "df_train = pre_processing(df_train)\n",
    "df_test = pre_processing(df_test)\n",
    "\n",
    "df_train.head()"
   ]
  },
  {
   "cell_type": "markdown",
   "metadata": {},
   "source": [
    "## One Hot/Frequency Encoding"
   ]
  },
  {
   "cell_type": "code",
   "execution_count": 72,
   "metadata": {},
   "outputs": [
    {
     "data": {
      "text/html": [
       "<div>\n",
       "<style scoped>\n",
       "    .dataframe tbody tr th:only-of-type {\n",
       "        vertical-align: middle;\n",
       "    }\n",
       "\n",
       "    .dataframe tbody tr th {\n",
       "        vertical-align: top;\n",
       "    }\n",
       "\n",
       "    .dataframe thead th {\n",
       "        text-align: right;\n",
       "    }\n",
       "</style>\n",
       "<table border=\"1\" class=\"dataframe\">\n",
       "  <thead>\n",
       "    <tr style=\"text-align: right;\">\n",
       "      <th></th>\n",
       "      <th>ID</th>\n",
       "      <th>Agency</th>\n",
       "      <th>Product Name</th>\n",
       "      <th>Duration</th>\n",
       "      <th>Destination</th>\n",
       "      <th>Net Sales</th>\n",
       "      <th>Commision (in value)</th>\n",
       "      <th>Age</th>\n",
       "      <th>Claim</th>\n",
       "      <th>Age Group</th>\n",
       "      <th>Agency Type_Travel Agency</th>\n",
       "      <th>Distribution Channel_Online</th>\n",
       "    </tr>\n",
       "  </thead>\n",
       "  <tbody>\n",
       "    <tr>\n",
       "      <th>0</th>\n",
       "      <td>2010</td>\n",
       "      <td>EPX</td>\n",
       "      <td>Cancellation Plan</td>\n",
       "      <td>61</td>\n",
       "      <td>PHILIPPINES</td>\n",
       "      <td>12.0</td>\n",
       "      <td>0.0</td>\n",
       "      <td>41.0</td>\n",
       "      <td>0</td>\n",
       "      <td>Adult</td>\n",
       "      <td>1</td>\n",
       "      <td>1</td>\n",
       "    </tr>\n",
       "    <tr>\n",
       "      <th>1</th>\n",
       "      <td>4245</td>\n",
       "      <td>EPX</td>\n",
       "      <td>Cancellation Plan</td>\n",
       "      <td>4</td>\n",
       "      <td>MALAYSIA</td>\n",
       "      <td>17.0</td>\n",
       "      <td>0.0</td>\n",
       "      <td>35.0</td>\n",
       "      <td>0</td>\n",
       "      <td>Adult</td>\n",
       "      <td>1</td>\n",
       "      <td>1</td>\n",
       "    </tr>\n",
       "  </tbody>\n",
       "</table>\n",
       "</div>"
      ],
      "text/plain": [
       "     ID Agency       Product Name  Duration  Destination  Net Sales  \\\n",
       "0  2010    EPX  Cancellation Plan        61  PHILIPPINES       12.0   \n",
       "1  4245    EPX  Cancellation Plan         4     MALAYSIA       17.0   \n",
       "\n",
       "   Commision (in value)   Age  Claim Age Group  Agency Type_Travel Agency  \\\n",
       "0                   0.0  41.0      0     Adult                          1   \n",
       "1                   0.0  35.0      0     Adult                          1   \n",
       "\n",
       "   Distribution Channel_Online  \n",
       "0                            1  \n",
       "1                            1  "
      ]
     },
     "execution_count": 72,
     "metadata": {},
     "output_type": "execute_result"
    }
   ],
   "source": [
    "train_ap = pd.get_dummies(df_train, columns=['Agency Type','Distribution Channel'], drop_first=True)\n",
    "train_ap.head(2)"
   ]
  },
  {
   "cell_type": "code",
   "execution_count": 73,
   "metadata": {},
   "outputs": [
    {
     "data": {
      "text/html": [
       "<div>\n",
       "<style scoped>\n",
       "    .dataframe tbody tr th:only-of-type {\n",
       "        vertical-align: middle;\n",
       "    }\n",
       "\n",
       "    .dataframe tbody tr th {\n",
       "        vertical-align: top;\n",
       "    }\n",
       "\n",
       "    .dataframe thead th {\n",
       "        text-align: right;\n",
       "    }\n",
       "</style>\n",
       "<table border=\"1\" class=\"dataframe\">\n",
       "  <thead>\n",
       "    <tr style=\"text-align: right;\">\n",
       "      <th></th>\n",
       "      <th>ID</th>\n",
       "      <th>Duration</th>\n",
       "      <th>Net Sales</th>\n",
       "      <th>Commision (in value)</th>\n",
       "      <th>Age</th>\n",
       "      <th>Claim</th>\n",
       "      <th>Age Group</th>\n",
       "      <th>Agency Type_Travel Agency</th>\n",
       "      <th>Distribution Channel_Online</th>\n",
       "      <th>Destination_fcode</th>\n",
       "      <th>Agency_fcode</th>\n",
       "      <th>Product Name_fcode</th>\n",
       "    </tr>\n",
       "  </thead>\n",
       "  <tbody>\n",
       "    <tr>\n",
       "      <th>0</th>\n",
       "      <td>2010</td>\n",
       "      <td>61</td>\n",
       "      <td>12.0</td>\n",
       "      <td>0.0</td>\n",
       "      <td>41.0</td>\n",
       "      <td>0</td>\n",
       "      <td>Adult</td>\n",
       "      <td>1</td>\n",
       "      <td>1</td>\n",
       "      <td>0.034353</td>\n",
       "      <td>0.501204</td>\n",
       "      <td>0.253374</td>\n",
       "    </tr>\n",
       "    <tr>\n",
       "      <th>1</th>\n",
       "      <td>4245</td>\n",
       "      <td>4</td>\n",
       "      <td>17.0</td>\n",
       "      <td>0.0</td>\n",
       "      <td>35.0</td>\n",
       "      <td>0</td>\n",
       "      <td>Adult</td>\n",
       "      <td>1</td>\n",
       "      <td>1</td>\n",
       "      <td>0.083330</td>\n",
       "      <td>0.501204</td>\n",
       "      <td>0.253374</td>\n",
       "    </tr>\n",
       "  </tbody>\n",
       "</table>\n",
       "</div>"
      ],
      "text/plain": [
       "     ID  Duration  Net Sales  Commision (in value)   Age  Claim Age Group  \\\n",
       "0  2010        61       12.0                   0.0  41.0      0     Adult   \n",
       "1  4245         4       17.0                   0.0  35.0      0     Adult   \n",
       "\n",
       "   Agency Type_Travel Agency  Distribution Channel_Online  Destination_fcode  \\\n",
       "0                          1                            1           0.034353   \n",
       "1                          1                            1           0.083330   \n",
       "\n",
       "   Agency_fcode  Product Name_fcode  \n",
       "0      0.501204            0.253374  \n",
       "1      0.501204            0.253374  "
      ]
     },
     "execution_count": 73,
     "metadata": {},
     "output_type": "execute_result"
    }
   ],
   "source": [
    "df_train_ap = freq_encoding(train_ap)\n",
    "df_train_ap.head(2)"
   ]
  },
  {
   "cell_type": "markdown",
   "metadata": {},
   "source": [
    "# Feature Selection"
   ]
  },
  {
   "cell_type": "code",
   "execution_count": 74,
   "metadata": {},
   "outputs": [
    {
     "data": {
      "image/png": "[encoded data removed]",
      "text/plain": [
       "<Figure size 720x504 with 2 Axes>"
      ]
     },
     "metadata": {
      "needs_background": "light"
     },
     "output_type": "display_data"
    }
   ],
   "source": [
    "fig = plt.figure(figsize=(10, 7))\n",
    "sns.heatmap(df_train.corr(), annot=True)\n",
    "plt.title('Heatmap for detecting multicollinearity', fontsize=16, color='navy')\n",
    "plt.show()"
   ]
  },
  {
   "cell_type": "markdown",
   "metadata": {},
   "source": [
    "- Feature are not highly corelated so we can go with ll features"
   ]
  },
  {
   "cell_type": "code",
   "execution_count": 75,
   "metadata": {},
   "outputs": [],
   "source": [
    "# Independent variable\n",
    "X_ap = df_train_ap.drop(['Claim','ID'], axis = 1)\n",
    "X_ap['Total Sale'] = X_ap['Commision (in value)'] + X_ap['Net Sales'] \n",
    "# Dependent variable\n",
    "y_ap = df_train['Claim']"
   ]
  },
  {
   "cell_type": "code",
   "execution_count": 76,
   "metadata": {},
   "outputs": [
    {
     "data": {
      "text/html": [
       "<div>\n",
       "<style scoped>\n",
       "    .dataframe tbody tr th:only-of-type {\n",
       "        vertical-align: middle;\n",
       "    }\n",
       "\n",
       "    .dataframe tbody tr th {\n",
       "        vertical-align: top;\n",
       "    }\n",
       "\n",
       "    .dataframe thead th {\n",
       "        text-align: right;\n",
       "    }\n",
       "</style>\n",
       "<table border=\"1\" class=\"dataframe\">\n",
       "  <thead>\n",
       "    <tr style=\"text-align: right;\">\n",
       "      <th></th>\n",
       "      <th>Duration</th>\n",
       "      <th>Net Sales</th>\n",
       "      <th>Commision (in value)</th>\n",
       "      <th>Age</th>\n",
       "      <th>Age Group</th>\n",
       "      <th>Agency Type_Travel Agency</th>\n",
       "      <th>Distribution Channel_Online</th>\n",
       "      <th>Destination_fcode</th>\n",
       "      <th>Agency_fcode</th>\n",
       "      <th>Product Name_fcode</th>\n",
       "      <th>Total Sale</th>\n",
       "    </tr>\n",
       "  </thead>\n",
       "  <tbody>\n",
       "    <tr>\n",
       "      <th>0</th>\n",
       "      <td>61</td>\n",
       "      <td>12.0</td>\n",
       "      <td>0.0</td>\n",
       "      <td>41.0</td>\n",
       "      <td>Adult</td>\n",
       "      <td>1</td>\n",
       "      <td>1</td>\n",
       "      <td>0.034353</td>\n",
       "      <td>0.501204</td>\n",
       "      <td>0.253374</td>\n",
       "      <td>12.0</td>\n",
       "    </tr>\n",
       "    <tr>\n",
       "      <th>1</th>\n",
       "      <td>4</td>\n",
       "      <td>17.0</td>\n",
       "      <td>0.0</td>\n",
       "      <td>35.0</td>\n",
       "      <td>Adult</td>\n",
       "      <td>1</td>\n",
       "      <td>1</td>\n",
       "      <td>0.083330</td>\n",
       "      <td>0.501204</td>\n",
       "      <td>0.253374</td>\n",
       "      <td>17.0</td>\n",
       "    </tr>\n",
       "  </tbody>\n",
       "</table>\n",
       "</div>"
      ],
      "text/plain": [
       "   Duration  Net Sales  Commision (in value)   Age Age Group  \\\n",
       "0        61       12.0                   0.0  41.0     Adult   \n",
       "1         4       17.0                   0.0  35.0     Adult   \n",
       "\n",
       "   Agency Type_Travel Agency  Distribution Channel_Online  Destination_fcode  \\\n",
       "0                          1                            1           0.034353   \n",
       "1                          1                            1           0.083330   \n",
       "\n",
       "   Agency_fcode  Product Name_fcode  Total Sale  \n",
       "0      0.501204            0.253374        12.0  \n",
       "1      0.501204            0.253374        17.0  "
      ]
     },
     "execution_count": 76,
     "metadata": {},
     "output_type": "execute_result"
    }
   ],
   "source": [
    "X_ap.head(2)"
   ]
  },
  {
   "cell_type": "code",
   "execution_count": 38,
   "metadata": {},
   "outputs": [],
   "source": [
    "df_test_ = df_test\n",
    "df_test_['Total Sale'] = df_test_['Commision (in value)'] + df_test_['Net Sales'] \n",
    "df_test_ = pd.get_dummies(df_test_, columns=['Agency Type', 'Distribution Channel'], drop_first=True)"
   ]
  },
  {
   "cell_type": "code",
   "execution_count": 39,
   "metadata": {},
   "outputs": [],
   "source": [
    "pre_processing(df_test_)\n",
    "df_test_ = freq_encoding(df_test_)"
   ]
  },
  {
   "cell_type": "code",
   "execution_count": 40,
   "metadata": {},
   "outputs": [
    {
     "data": {
      "text/html": [
       "<div>\n",
       "<style scoped>\n",
       "    .dataframe tbody tr th:only-of-type {\n",
       "        vertical-align: middle;\n",
       "    }\n",
       "\n",
       "    .dataframe tbody tr th {\n",
       "        vertical-align: top;\n",
       "    }\n",
       "\n",
       "    .dataframe thead th {\n",
       "        text-align: right;\n",
       "    }\n",
       "</style>\n",
       "<table border=\"1\" class=\"dataframe\">\n",
       "  <thead>\n",
       "    <tr style=\"text-align: right;\">\n",
       "      <th></th>\n",
       "      <th>ID</th>\n",
       "      <th>Duration</th>\n",
       "      <th>Net Sales</th>\n",
       "      <th>Commision (in value)</th>\n",
       "      <th>Age</th>\n",
       "      <th>Total Sale</th>\n",
       "      <th>Agency Type_Travel Agency</th>\n",
       "      <th>Distribution Channel_Online</th>\n",
       "      <th>Age Group</th>\n",
       "      <th>Destination_fcode</th>\n",
       "      <th>Agency_fcode</th>\n",
       "      <th>Product Name_fcode</th>\n",
       "    </tr>\n",
       "  </thead>\n",
       "  <tbody>\n",
       "    <tr>\n",
       "      <th>0</th>\n",
       "      <td>17631</td>\n",
       "      <td>192</td>\n",
       "      <td>18.0</td>\n",
       "      <td>0.0</td>\n",
       "      <td>36.0</td>\n",
       "      <td>18.0</td>\n",
       "      <td>1</td>\n",
       "      <td>1</td>\n",
       "      <td>Adult</td>\n",
       "      <td>0.034700</td>\n",
       "      <td>0.502208</td>\n",
       "      <td>0.257749</td>\n",
       "    </tr>\n",
       "    <tr>\n",
       "      <th>1</th>\n",
       "      <td>15064</td>\n",
       "      <td>2</td>\n",
       "      <td>20.0</td>\n",
       "      <td>0.0</td>\n",
       "      <td>36.0</td>\n",
       "      <td>20.0</td>\n",
       "      <td>1</td>\n",
       "      <td>1</td>\n",
       "      <td>Adult</td>\n",
       "      <td>0.271041</td>\n",
       "      <td>0.502208</td>\n",
       "      <td>0.044824</td>\n",
       "    </tr>\n",
       "  </tbody>\n",
       "</table>\n",
       "</div>"
      ],
      "text/plain": [
       "      ID  Duration  Net Sales  Commision (in value)   Age  Total Sale  \\\n",
       "0  17631       192       18.0                   0.0  36.0        18.0   \n",
       "1  15064         2       20.0                   0.0  36.0        20.0   \n",
       "\n",
       "   Agency Type_Travel Agency  Distribution Channel_Online Age Group  \\\n",
       "0                          1                            1     Adult   \n",
       "1                          1                            1     Adult   \n",
       "\n",
       "   Destination_fcode  Agency_fcode  Product Name_fcode  \n",
       "0           0.034700      0.502208            0.257749  \n",
       "1           0.271041      0.502208            0.044824  "
      ]
     },
     "execution_count": 40,
     "metadata": {},
     "output_type": "execute_result"
    }
   ],
   "source": [
    "df_test_.head(2)"
   ]
  },
  {
   "cell_type": "code",
   "execution_count": null,
   "metadata": {},
   "outputs": [],
   "source": [
    "df_test_ = df_test_.drop('ID', axis=1)"
   ]
  },
  {
   "cell_type": "code",
   "execution_count": 78,
   "metadata": {},
   "outputs": [],
   "source": [
    "X_ap.drop('Age Group', axis=1, inplace=True)"
   ]
  },
  {
   "cell_type": "code",
   "execution_count": 79,
   "metadata": {},
   "outputs": [],
   "source": [
    "# Rename some columns\n",
    "\n",
    "X_ap = X_ap.rename(columns = {'Net Sales':'Net_Sales', 'Commision (in value)':'Commision', \\\n",
    "                              'Agency Type_Travel Agency':'Agency_Type_Travel', \\\n",
    "                              'Distribution Channel_Online':'Distribution', \\\n",
    "                              'Product Name_fcode':'Product_fcode', 'Total Sale':'Total_Sale'})"
   ]
  },
  {
   "cell_type": "code",
   "execution_count": 80,
   "metadata": {},
   "outputs": [],
   "source": [
    "X_train_ap, X_test_ap, y_train_ap, y_test_ap = train_test_split(X_ap, y_ap, random_state = 42, test_size = 0.3)\n",
    "#scaler = StandardScaler()\n",
    "scaler  = MinMaxScaler()\n",
    "X_train_ap = scaler.fit_transform(X_train_ap)\n",
    "X_test_ap  = scaler.transform(X_test_ap)\n"
   ]
  },
  {
   "cell_type": "markdown",
   "metadata": {},
   "source": [
    "## Hyper Parameter Tuning Grid search CV"
   ]
  },
  {
   "cell_type": "code",
   "execution_count": 52,
   "metadata": {},
   "outputs": [],
   "source": [
    "from sklearn.model_selection import GridSearchCV\n",
    "def grid_search_cv(estimator, parameters):\n",
    "    grid_search = GridSearchCV(\n",
    "        estimator = estimator,\n",
    "        param_grid = parameters,\n",
    "        scoring = 'precision',\n",
    "        n_jobs = 10,\n",
    "        cv = 10,\n",
    "        verbose=True\n",
    "    )\n",
    "    grid_search.fit(X_ap, y_ap)\n",
    "    return grid_search"
   ]
  },
  {
   "cell_type": "markdown",
   "metadata": {},
   "source": [
    "### XGBOOST "
   ]
  },
  {
   "cell_type": "code",
   "execution_count": 81,
   "metadata": {},
   "outputs": [
    {
     "data": {
      "text/plain": [
       "25452    0\n",
       "7606     0\n",
       "Name: Claim, dtype: int64"
      ]
     },
     "execution_count": 81,
     "metadata": {},
     "output_type": "execute_result"
    }
   ],
   "source": [
    "y_train_ap.head(2)"
   ]
  },
  {
   "cell_type": "code",
   "execution_count": 82,
   "metadata": {},
   "outputs": [
    {
     "name": "stdout",
     "output_type": "stream",
     "text": [
      "Accuracy Score with XG Boost :  0.9350028675205506\n",
      "Confusion Matrix with XG Boost : \n",
      " [[12667   414]\n",
      " [  606  2006]]\n",
      "Classification Report with XG Boost : \n",
      "               precision    recall  f1-score   support\n",
      "\n",
      "           0       0.95      0.97      0.96     13081\n",
      "           1       0.83      0.77      0.80      2612\n",
      "\n",
      "    accuracy                           0.94     15693\n",
      "   macro avg       0.89      0.87      0.88     15693\n",
      "weighted avg       0.93      0.94      0.93     15693\n",
      "\n"
     ]
    }
   ],
   "source": [
    "from xgboost import XGBClassifier\n",
    "from sklearn.model_selection import GridSearchCV\n",
    "from sklearn.preprocessing import LabelBinarizer, StandardScaler, MinMaxScaler\n",
    " \n",
    "colms = ['Agency_Type_Travel', 'Destination_fcode', 'Commision', 'Product_fcode', 'Net_Sales', \\\n",
    " 'Distribution', 'Total_Sale', 'Agency_fcode', 'Duration', 'Age']\n",
    "\n",
    "\n",
    "#scaler = StandardScaler()\n",
    "scaler  = MinMaxScaler()\n",
    "X_train = scaler.fit_transform(X_train_ap)\n",
    "X_test  = scaler.transform(X_test_ap)\n",
    "\n",
    "\n",
    "xgb_model = XGBClassifier(base_score=0.5, booster='gbtree', colsample_bylevel=1,\n",
    "              colsample_bynode=1, colsample_bytree=1, gamma=0, gpu_id=-1,\n",
    "              importance_type='gain', interaction_constraints='',\n",
    "              learning_rate=0.1, max_delta_step=0, max_depth=9,\n",
    "              min_child_weight=1, monotone_constraints='()',\n",
    "              n_estimators=180, n_jobs=4, nthread=4, num_parallel_tree=1,\n",
    "              random_state=42, reg_alpha=0, reg_lambda=1, scale_pos_weight=1,\n",
    "              seed=42, subsample=1, tree_method='exact', validate_parameters=1,\n",
    "              verbosity=None)\n",
    "\n",
    "# Fit the model\n",
    "xgb_model.fit(X_train_ap, y_train_ap)\n",
    "\n",
    "# Store the predicted values of test data\n",
    "y_pred_ap = xgb_model.predict(X_test_ap)\n",
    "\n",
    "xgb_score = accuracy_score(y_test_ap, y_pred_ap)\n",
    "print(\"Accuracy Score with XG Boost : \",xgb_score)\n",
    "\n",
    "xgb_cm = confusion_matrix(y_test_ap, y_pred_ap)\n",
    "print(\"Confusion Matrix with XG Boost : \\n\",xgb_cm)\n",
    "\n",
    "xgb_cr = classification_report(y_test_ap, y_pred_ap)\n",
    "print(\"Classification Report with XG Boost : \\n\",xgb_cr)"
   ]
  },
  {
   "cell_type": "code",
   "execution_count": 83,
   "metadata": {},
   "outputs": [
    {
     "data": {
      "image/png": "[encoded data removed]",
      "text/plain": [
       "<Figure size 720x720 with 1 Axes>"
      ]
     },
     "metadata": {
      "needs_background": "light"
     },
     "output_type": "display_data"
    }
   ],
   "source": [
    "plt.figure(figsize=(10,10))\n",
    "#plot graph of feature importances for better visualization\n",
    "feat_importances = pd.Series(xgb_model.feature_importances_, index=X_ap.columns)\n",
    "feat_importances.sort_values(ascending=True).plot(kind='barh')\n",
    "plt.show()"
   ]
  },
  {
   "cell_type": "code",
   "execution_count": 84,
   "metadata": {},
   "outputs": [
    {
     "data": {
      "text/plain": [
       "Destination_fcode     0.177917\n",
       "Agency_Type_Travel    0.171121\n",
       "Commision             0.136506\n",
       "Total_Sale            0.097438\n",
       "Product_fcode         0.094897\n",
       "Net_Sales             0.087873\n",
       "Agency_fcode          0.085706\n",
       "Distribution          0.077753\n",
       "Duration              0.038851\n",
       "Age                   0.031938\n",
       "dtype: float32"
      ]
     },
     "execution_count": 84,
     "metadata": {},
     "output_type": "execute_result"
    }
   ],
   "source": [
    "feat_importances.sort_values(ascending=False)"
   ]
  },
  {
   "cell_type": "markdown",
   "metadata": {},
   "source": [
    "### Random Forest"
   ]
  },
  {
   "cell_type": "code",
   "execution_count": 59,
   "metadata": {},
   "outputs": [
    {
     "name": "stdout",
     "output_type": "stream",
     "text": [
      "Fitting 10 folds for each of 324 candidates, totalling 3240 fits\n"
     ]
    },
    {
     "name": "stderr",
     "output_type": "stream",
     "text": [
      "[Parallel(n_jobs=10)]: Using backend LokyBackend with 10 concurrent workers.\n",
      "[Parallel(n_jobs=10)]: Done  30 tasks      | elapsed:   22.6s\n",
      "[Parallel(n_jobs=10)]: Done 180 tasks      | elapsed:  1.5min\n",
      "[Parallel(n_jobs=10)]: Done 430 tasks      | elapsed:  3.3min\n",
      "[Parallel(n_jobs=10)]: Done 780 tasks      | elapsed:  6.2min\n",
      "[Parallel(n_jobs=10)]: Done 1230 tasks      | elapsed: 10.9min\n",
      "[Parallel(n_jobs=10)]: Done 1780 tasks      | elapsed: 17.3min\n",
      "[Parallel(n_jobs=10)]: Done 2430 tasks      | elapsed: 22.4min\n",
      "[Parallel(n_jobs=10)]: Done 3180 tasks      | elapsed: 31.0min\n",
      "[Parallel(n_jobs=10)]: Done 3240 out of 3240 | elapsed: 32.0min finished\n"
     ]
    },
    {
     "name": "stdout",
     "output_type": "stream",
     "text": [
      "RandomForestClassifier(max_depth=2, max_features='log2', random_state=9)\n"
     ]
    }
   ],
   "source": [
    "#Random Forest GRID SEARCH CV\n",
    "estimator = RandomForestClassifier(random_state=9)\n",
    "parameters = {'n_estimators': [10, 50, 100], \n",
    "              'max_features': ['log2', 'sqrt'], \n",
    "              'criterion': ['entropy', 'gini'],\n",
    "              'max_depth': [2,4,6], \n",
    "              'min_samples_split': [2, 3, 5],\n",
    "              'min_samples_leaf': [1,3,5] \n",
    "             }\n",
    "grid_search = grid_search_cv(estimator, parameters)\n",
    "print(grid_search.best_estimator_)"
   ]
  },
  {
   "cell_type": "code",
   "execution_count": 85,
   "metadata": {},
   "outputs": [
    {
     "name": "stdout",
     "output_type": "stream",
     "text": [
      "Accuracy Score with XG Boost :  0.9427133116676225\n",
      "Confusion Matrix with XG Boost : \n",
      "               precision    recall  f1-score   support\n",
      "\n",
      "           0       0.96      0.97      0.97     13081\n",
      "           1       0.86      0.78      0.82      2612\n",
      "\n",
      "    accuracy                           0.94     15693\n",
      "   macro avg       0.91      0.88      0.89     15693\n",
      "weighted avg       0.94      0.94      0.94     15693\n",
      "\n",
      "Classification Report with XG Boost : \n",
      " [[12745   336]\n",
      " [  563  2049]]\n"
     ]
    }
   ],
   "source": [
    "# Initialize RandomForrest model to variable rfc\n",
    "rf = RandomForestClassifier(min_samples_split= 2, min_samples_leaf= 1,\\\n",
    "    max_features= 'sqrt', max_depth= 560,criterion= 'entropy')\n",
    "\n",
    "# Fit the model\n",
    "rf.fit(X_train_ap, y_train_ap)\n",
    "\n",
    "# Store the predicted values of test data\n",
    "y_pred_rf = rf.predict(X_test_ap)\n",
    "\n",
    "print(\"Accuracy Score with XG Boost : \", accuracy_score(y_test_ap, y_pred_rf))\n",
    "print(\"Confusion Matrix with XG Boost : \\n\", classification_report(y_test_ap, y_pred_rf))\n",
    "print(\"Classification Report with XG Boost : \\n\", confusion_matrix(y_test_ap, y_pred_rf))"
   ]
  },
  {
   "cell_type": "markdown",
   "metadata": {},
   "source": [
    "## XG Boost after Grid Serach"
   ]
  },
  {
   "cell_type": "code",
   "execution_count": 86,
   "metadata": {},
   "outputs": [
    {
     "name": "stdout",
     "output_type": "stream",
     "text": [
      "Accuracy Score with XG Boost :  0.9350028675205506\n",
      "Confusion Matrix with XG Boost : \n",
      " [[12667   414]\n",
      " [  606  2006]]\n",
      "Classification Report with XG Boost : \n",
      "               precision    recall  f1-score   support\n",
      "\n",
      "           0       0.95      0.97      0.96     13081\n",
      "           1       0.83      0.77      0.80      2612\n",
      "\n",
      "    accuracy                           0.94     15693\n",
      "   macro avg       0.89      0.87      0.88     15693\n",
      "weighted avg       0.93      0.94      0.93     15693\n",
      "\n"
     ]
    }
   ],
   "source": [
    "from xgboost import XGBClassifier\n",
    "from sklearn.model_selection import GridSearchCV\n",
    "from sklearn.preprocessing import LabelBinarizer, StandardScaler, MinMaxScaler\n",
    " \n",
    "colms = ['Agency_Type_Travel', 'Destination_fcode', 'Commision', 'Product_fcode', 'Net_Sales', \\\n",
    " 'Distribution', 'Total_Sale', 'Agency_fcode', 'Duration', 'Age']\n",
    "\n",
    "\n",
    "#scaler = StandardScaler()\n",
    "scaler  = MinMaxScaler()\n",
    "X_train = scaler.fit_transform(X_train_ap)\n",
    "X_test  = scaler.transform(X_test_ap)\n",
    "\n",
    "\n",
    "xgb_model = XGBClassifier(base_score=0.5, booster='gbtree', colsample_bylevel=1,\n",
    "              colsample_bynode=1, colsample_bytree=1, gamma=0, gpu_id=-1,\n",
    "              importance_type='gain', interaction_constraints='',\n",
    "              learning_rate=0.1, max_delta_step=0, max_depth=9,\n",
    "              min_child_weight=1, monotone_constraints='()',\n",
    "              n_estimators=180, n_jobs=4, nthread=4, num_parallel_tree=1,\n",
    "              random_state=42, reg_alpha=0, reg_lambda=1, scale_pos_weight=1,\n",
    "              seed=42, subsample=1, tree_method='exact', validate_parameters=1,\n",
    "              verbosity=None)\n",
    "\n",
    "# Fit the model\n",
    "xgb_model.fit(X_train,y_train_ap)\n",
    "\n",
    "# Store the predicted values of test data\n",
    "y_pred = xgb_model.predict(X_test)\n",
    "\n",
    "xgb_score = accuracy_score(y_test_ap,y_pred)\n",
    "print(\"Accuracy Score with XG Boost : \",xgb_score)\n",
    "\n",
    "xgb_cm = confusion_matrix(y_test_ap,y_pred)\n",
    "print(\"Confusion Matrix with XG Boost : \\n\",xgb_cm)\n",
    "\n",
    "xgb_cr = classification_report(y_test_ap, y_pred)\n",
    "print(\"Classification Report with XG Boost : \\n\",xgb_cr)"
   ]
  },
  {
   "cell_type": "markdown",
   "metadata": {},
   "source": [
    "## Random Forest After Grid Serach SV"
   ]
  },
  {
   "cell_type": "code",
   "execution_count": 87,
   "metadata": {},
   "outputs": [
    {
     "name": "stdout",
     "output_type": "stream",
     "text": [
      "Accuracy Score with XG Boost :  0.9438603198878481\n",
      "Confusion Matrix with XG Boost : \n",
      "               precision    recall  f1-score   support\n",
      "\n",
      "           0       0.96      0.98      0.97     13081\n",
      "           1       0.86      0.79      0.82      2612\n",
      "\n",
      "    accuracy                           0.94     15693\n",
      "   macro avg       0.91      0.88      0.90     15693\n",
      "weighted avg       0.94      0.94      0.94     15693\n",
      "\n",
      "Classification Report with XG Boost : \n",
      " [[12757   324]\n",
      " [  557  2055]]\n"
     ]
    }
   ],
   "source": [
    "# Initialize RandomForrest model to variable rfc\n",
    "colms = ['Agency_Type_Travel', 'Destination_fcode', 'Commision', 'Product_fcode', 'Net_Sales', \\\n",
    " 'Distribution', 'Total_Sale', 'Agency_fcode', 'Duration', 'Age']\n",
    "\n",
    "X_train_ap = X_ap[colms]\n",
    "\n",
    "X_train_ap, X_test_ap, y_train_ap, y_test_ap = train_test_split(X_ap, y_ap, random_state = 42, test_size = 0.3)\n",
    "#scaler = StandardScaler()\n",
    "scaler  = MinMaxScaler()\n",
    "X_train_ap = scaler.fit_transform(X_train_ap)\n",
    "X_test_ap  = scaler.transform(X_test_ap)\n",
    "\n",
    "\n",
    "rf = RandomForestClassifier(min_samples_split= 2, min_samples_leaf= 1,\\\n",
    "    max_features= 'sqrt', max_depth= 560,criterion= 'entropy')\n",
    "abs\n",
    "# Fit the model\n",
    "rf.fit(X_train_ap, y_train_ap)\n",
    "\n",
    "# Store the predicted values of test data\n",
    "y_pred_rf = rf.predict(X_test_ap)\n",
    "\n",
    "\n",
    "print(\"Accuracy Score with XG Boost : \", accuracy_score(y_test_ap, y_pred_rf))\n",
    "print(\"Confusion Matrix with XG Boost : \\n\", classification_report(y_test_ap, y_pred_rf))\n",
    "print(\"Classification Report with XG Boost : \\n\", confusion_matrix(y_test_ap, y_pred_rf))"
   ]
  },
  {
   "cell_type": "code",
   "execution_count": 74,
   "metadata": {},
   "outputs": [
    {
     "data": {
      "text/html": [
       "<div>\n",
       "<style scoped>\n",
       "    .dataframe tbody tr th:only-of-type {\n",
       "        vertical-align: middle;\n",
       "    }\n",
       "\n",
       "    .dataframe tbody tr th {\n",
       "        vertical-align: top;\n",
       "    }\n",
       "\n",
       "    .dataframe thead th {\n",
       "        text-align: right;\n",
       "    }\n",
       "</style>\n",
       "<table border=\"1\" class=\"dataframe\">\n",
       "  <thead>\n",
       "    <tr style=\"text-align: right;\">\n",
       "      <th></th>\n",
       "      <th>Duration</th>\n",
       "      <th>Net Sales</th>\n",
       "      <th>Commision (in value)</th>\n",
       "      <th>Age</th>\n",
       "      <th>Agency Type_Travel Agency</th>\n",
       "      <th>Distribution Channel_Online</th>\n",
       "      <th>Destination_fcode</th>\n",
       "      <th>Agency_fcode</th>\n",
       "      <th>Product Name_fcode</th>\n",
       "      <th>Total Sale</th>\n",
       "    </tr>\n",
       "  </thead>\n",
       "  <tbody>\n",
       "    <tr>\n",
       "      <th>0</th>\n",
       "      <td>61</td>\n",
       "      <td>12.0</td>\n",
       "      <td>0.00</td>\n",
       "      <td>41</td>\n",
       "      <td>1</td>\n",
       "      <td>1</td>\n",
       "      <td>0.034353</td>\n",
       "      <td>0.501204</td>\n",
       "      <td>0.253374</td>\n",
       "      <td>12.00</td>\n",
       "    </tr>\n",
       "    <tr>\n",
       "      <th>1</th>\n",
       "      <td>4</td>\n",
       "      <td>17.0</td>\n",
       "      <td>0.00</td>\n",
       "      <td>35</td>\n",
       "      <td>1</td>\n",
       "      <td>1</td>\n",
       "      <td>0.083330</td>\n",
       "      <td>0.501204</td>\n",
       "      <td>0.253374</td>\n",
       "      <td>17.00</td>\n",
       "    </tr>\n",
       "    <tr>\n",
       "      <th>2</th>\n",
       "      <td>26</td>\n",
       "      <td>19.8</td>\n",
       "      <td>11.88</td>\n",
       "      <td>47</td>\n",
       "      <td>1</td>\n",
       "      <td>1</td>\n",
       "      <td>0.087211</td>\n",
       "      <td>0.130243</td>\n",
       "      <td>0.130243</td>\n",
       "      <td>31.68</td>\n",
       "    </tr>\n",
       "    <tr>\n",
       "      <th>3</th>\n",
       "      <td>15</td>\n",
       "      <td>27.0</td>\n",
       "      <td>0.00</td>\n",
       "      <td>48</td>\n",
       "      <td>1</td>\n",
       "      <td>1</td>\n",
       "      <td>0.033932</td>\n",
       "      <td>0.501204</td>\n",
       "      <td>0.201778</td>\n",
       "      <td>27.00</td>\n",
       "    </tr>\n",
       "    <tr>\n",
       "      <th>4</th>\n",
       "      <td>15</td>\n",
       "      <td>37.0</td>\n",
       "      <td>0.00</td>\n",
       "      <td>36</td>\n",
       "      <td>1</td>\n",
       "      <td>1</td>\n",
       "      <td>0.083330</td>\n",
       "      <td>0.501204</td>\n",
       "      <td>0.201778</td>\n",
       "      <td>37.00</td>\n",
       "    </tr>\n",
       "  </tbody>\n",
       "</table>\n",
       "</div>"
      ],
      "text/plain": [
       "   Duration  Net Sales  Commision (in value)  Age  Agency Type_Travel Agency  \\\n",
       "0        61       12.0                  0.00   41                          1   \n",
       "1         4       17.0                  0.00   35                          1   \n",
       "2        26       19.8                 11.88   47                          1   \n",
       "3        15       27.0                  0.00   48                          1   \n",
       "4        15       37.0                  0.00   36                          1   \n",
       "\n",
       "   Distribution Channel_Online  Destination_fcode  Agency_fcode  \\\n",
       "0                            1           0.034353      0.501204   \n",
       "1                            1           0.083330      0.501204   \n",
       "2                            1           0.087211      0.130243   \n",
       "3                            1           0.033932      0.501204   \n",
       "4                            1           0.083330      0.501204   \n",
       "\n",
       "   Product Name_fcode  Total Sale  \n",
       "0            0.253374       12.00  \n",
       "1            0.253374       17.00  \n",
       "2            0.130243       31.68  \n",
       "3            0.201778       27.00  \n",
       "4            0.201778       37.00  "
      ]
     },
     "execution_count": 74,
     "metadata": {},
     "output_type": "execute_result"
    }
   ],
   "source": [
    "X_ap.head()"
   ]
  },
  {
   "cell_type": "markdown",
   "metadata": {},
   "source": [
    "# Deployment"
   ]
  },
  {
   "cell_type": "code",
   "execution_count": 88,
   "metadata": {},
   "outputs": [],
   "source": [
    "# Saving model to disk\n",
    "\n",
    "pickle.dump(rf, open('model.pkl','wb'))"
   ]
  },
  {
   "cell_type": "code",
   "execution_count": 89,
   "metadata": {},
   "outputs": [
    {
     "data": {
      "text/plain": [
       "Index(['Duration', 'Net_Sales', 'Commision', 'Age', 'Agency_Type_Travel',\n",
       "       'Distribution', 'Destination_fcode', 'Agency_fcode', 'Product_fcode',\n",
       "       'Total_Sale'],\n",
       "      dtype='object')"
      ]
     },
     "execution_count": 89,
     "metadata": {},
     "output_type": "execute_result"
    }
   ],
   "source": [
    "X_ap.columns"
   ]
  },
  {
   "cell_type": "markdown",
   "metadata": {},
   "source": [
    "# Common Functions"
   ]
  },
  {
   "cell_type": "code",
   "execution_count": 18,
   "metadata": {},
   "outputs": [],
   "source": [
    "# Write a function for data preprocessing\n",
    "def age_convert(age):\n",
    "    result = ''\n",
    "    if(age <= 21):\n",
    "        result = 'Child'\n",
    "    elif(age <= 50):\n",
    "        result = 'Adult'\n",
    "    else:\n",
    "        result = 'Senior'\n",
    "    return result\n",
    "\n",
    "\n",
    "def pre_processing(train_data):\n",
    "    train_data['Age Group'] = train_data['Age'].map(lambda x: age_convert(x))\n",
    "    train_data['Duration'][train_data['Duration'] < 0] = train_data['Duration'].median()\n",
    "    train_data['Duration'][train_data['Duration'] > 540] = 540\n",
    "    train_data['Age'][train_data['Age'] > 99] = train_data[train_data['Age Group'] == 'Senior']['Age'].mean()\n",
    "  "
   ]
  },
  {
   "cell_type": "code",
   "execution_count": 5,
   "metadata": {},
   "outputs": [],
   "source": [
    "def freq_encoding(df):\n",
    "    # Converting all categorical columns into numeric using frequency encoding, label encoding and one-hot encoding.\n",
    "    frequency = df.groupby('Destination').size()/len(df)\n",
    "    df.loc[:,'Destination_fcode'] = df['Destination'].map(frequency)\n",
    "    frequency_1 = df.groupby('Agency').size()/len(df)\n",
    "    df.loc[:,'Agency_fcode'] = df['Agency'].map( frequency_1)\n",
    "    frequency_2 = df.groupby('Product Name').size()/len(df)    \n",
    "    df.loc[:,'Product Name_fcode'] = df['Product Name'].map(frequency_2)\n",
    "    df.drop(columns='Agency',axis=1,inplace=True)\n",
    "    df.drop(columns='Destination',axis=1,inplace=True)\n",
    "    df.drop(columns='Product Name',axis=1,inplace=True)\n",
    "    return df"
   ]
  }
 ],
 "metadata": {
  "kernelspec": {
   "display_name": "Python 3",
   "language": "python",
   "name": "python3"
  },
  "language_info": {
   "codemirror_mode": {
    "name": "ipython",
    "version": 3
   },
   "file_extension": ".py",
   "mimetype": "text/x-python",
   "name": "python",
   "nbconvert_exporter": "python",
   "pygments_lexer": "ipython3",
   "version": "3.7.6"
  },
  "toc": {
   "base_numbering": 1,
   "nav_menu": {},
   "number_sections": true,
   "sideBar": true,
   "skip_h1_title": false,
   "title_cell": "Table of Contents",
   "title_sidebar": "Contents",
   "toc_cell": false,
   "toc_position": {},
   "toc_section_display": true,
   "toc_window_display": true
  }
 },
 "nbformat": 4,
 "nbformat_minor": 4
}
